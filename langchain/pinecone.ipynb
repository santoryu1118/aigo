{
 "cells": [
  {
   "cell_type": "code",
   "execution_count": 5,
   "outputs": [
    {
     "data": {
      "text/plain": "True"
     },
     "execution_count": 5,
     "metadata": {},
     "output_type": "execute_result"
    }
   ],
   "source": [
    "import os\n",
    "from dotenv import load_dotenv\n",
    "\n",
    "load_dotenv(verbose=True)"
   ],
   "metadata": {
    "collapsed": false,
    "ExecuteTime": {
     "end_time": "2023-08-07T04:43:08.380941Z",
     "start_time": "2023-08-07T04:43:08.331546Z"
    }
   },
   "id": "598caf070b9df8e0"
  },
  {
   "cell_type": "code",
   "execution_count": 2,
   "outputs": [
    {
     "name": "stdout",
     "output_type": "stream",
     "text": [
      "{'page_content': 'The\\nUnited\\nStates\\nConstitution\\nW e\\nthe\\nPeople\\nof\\nthe\\nUnited\\nStates,\\nin\\nOrder\\nto\\nform\\na\\nmore\\nperfect\\nUnion,\\nestablish\\nJustice,\\ninsure\\ndomestic\\nT ranquility ,\\nprovide\\nfor\\nthe\\ncommon\\ndefence,\\npromote\\nthe\\ngeneral\\nW elfare,\\nand\\nsecure\\nthe\\nBlessings\\nof\\nLiberty\\nto\\nourselves\\nand\\nour\\nPosterity ,\\ndo\\nordain\\nand\\nestablish\\nthis\\nConstitution\\nfor\\nthe\\nUnited\\nStates\\nof\\nAmerica.\\nThe\\nConstitutional\\nCon v ention\\nArticle\\nI\\nSection\\n1:\\nCongress\\nAll\\nlegislative\\nPowers\\nherein\\ngranted\\nshall\\nbe\\nvested\\nin\\na\\nCongress\\nof\\nthe\\nUnited\\nStates,\\nwhich\\nshall\\nconsist\\nof\\na\\nSenate\\nand\\nHouse\\nof\\nRepresentatives.\\nSection\\n2:\\nThe\\nHouse\\nof\\nRepresentatives', 'metadata': {'source': 'us_constitution.pdf', 'page': 0}}\n"
     ]
    }
   ],
   "source": [
    "from langchain.document_loaders import PyPDFLoader\n",
    "\n",
    "loader = PyPDFLoader(\"us_constitution.pdf\")\n",
    "pages = loader.load_and_split()\n",
    "print(pages[0].__dict__)"
   ],
   "metadata": {
    "collapsed": false,
    "ExecuteTime": {
     "start_time": "2023-08-07T04:39:01.693986Z"
    }
   },
   "id": "initial_id"
  },
  {
   "cell_type": "code",
   "execution_count": 7,
   "outputs": [],
   "source": [
    "from langchain.embeddings import OpenAIEmbeddings\n",
    "from langchain.vectorstores import Pinecone\n",
    "import os\n",
    "import pinecone\n",
    "\n",
    "embeddings = OpenAIEmbeddings()\n",
    "pinecone.init(\n",
    "    api_key=os.getenv(\"PINECONE_API_KEY\"),  # find at app.pinecone.io\n",
    "    environment=os.getenv(\"PINECONE_ENV\"),  # next to api key in console\n",
    ")\n",
    "\n",
    "index_name = \"langchain-demo\"\n",
    "\n",
    "# First, check if our index already exists. If it doesn't, we create it\n",
    "if index_name not in pinecone.list_indexes():\n",
    "    # we create a new index\n",
    "    pinecone.create_index(\n",
    "        name=index_name,\n",
    "        metric='cosine',\n",
    "        dimension=1536\n",
    "    )\n",
    "vectorstore = Pinecone.from_documents(\n",
    "    documents=pages,\n",
    "    embedding=embeddings,\n",
    "    index_name=index_name\n",
    ")"
   ],
   "metadata": {
    "collapsed": false,
    "ExecuteTime": {
     "end_time": "2023-08-07T04:44:04.145809Z",
     "start_time": "2023-08-07T04:43:52.166630Z"
    }
   },
   "id": "218da163195f4ae8"
  },
  {
   "cell_type": "code",
   "execution_count": 10,
   "outputs": [
    {
     "data": {
      "text/plain": "' The Seventh Amendment preserves the right to trial by jury in cases where the value in controversy exceeds twenty dollars. The Eighth Amendment prohibits excessive bail, fines, and cruel and unusual punishments. The Ninth Amendment states that the enumeration of certain rights in the Constitution should not be construed to deny or disparage other rights retained by the people. The Tenth Amendment states that powers not delegated to the federal government are reserved to the states or to the people.'"
     },
     "execution_count": 10,
     "metadata": {},
     "output_type": "execute_result"
    }
   ],
   "source": [
    "from langchain.chains import RetrievalQA\n",
    "from langchain.llms import OpenAI\n",
    "\n",
    "# expose the index in a retriever interface.\n",
    "retriever = vectorstore.as_retriever()\n",
    "\n",
    "# create a chain and use it to answer questions!\n",
    "chain = RetrievalQA.from_chain_type(\n",
    "    llm=OpenAI(),\n",
    "    chain_type=\"stuff\", \n",
    "    retriever=retriever\n",
    ")\n",
    "\n",
    "query = 'Could you give the most important keypoints in the document?'\n",
    "chain.run(query)"
   ],
   "metadata": {
    "collapsed": false,
    "ExecuteTime": {
     "end_time": "2023-08-07T04:51:23.461719Z",
     "start_time": "2023-08-07T04:51:19.998078Z"
    }
   },
   "id": "6d1caf675902f2a0"
  },
  {
   "cell_type": "code",
   "execution_count": null,
   "outputs": [],
   "source": [
    "from langchain.indexes import VectorstoreIndexCreator\n",
    "\n",
    "\"\"\"\n",
    "VectorstoreIndexCreator is a wrapper\n",
    "What is returned from the VectorstoreIndexCreator is VectorStoreIndexWrapper\n",
    "which provides these nice query and query_with_sources functionality.\n",
    "\"\"\"\n",
    "index = VectorstoreIndexCreator().from_loaders([loader])\n",
    "query = \"What did the president say about Ketanji Brown Jackson\"\n",
    "index.query(query)\n"
   ],
   "metadata": {
    "collapsed": false
   },
   "id": "fdad4647c01199ea"
  }
 ],
 "metadata": {
  "kernelspec": {
   "display_name": "Python 3",
   "language": "python",
   "name": "python3"
  },
  "language_info": {
   "codemirror_mode": {
    "name": "ipython",
    "version": 2
   },
   "file_extension": ".py",
   "mimetype": "text/x-python",
   "name": "python",
   "nbconvert_exporter": "python",
   "pygments_lexer": "ipython2",
   "version": "2.7.6"
  }
 },
 "nbformat": 4,
 "nbformat_minor": 5
}
